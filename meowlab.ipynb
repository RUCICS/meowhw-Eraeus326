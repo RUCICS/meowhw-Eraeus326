{
 "cells": [
  {
   "cell_type": "markdown",
   "id": "c6175159",
   "metadata": {},
   "source": [
    "# MeowLab\n",
    "\n",
    "> cat可能是你最常用的命令行工具之一，但是可能很少有人会关注cat的性能问题。\n",
    "> \n",
    "> 但实际上，cat可能比你想的更加高效。在这个lab中，我们会一起来探索cat如此高效的秘密。"
   ]
  },
  {
   "cell_type": "markdown",
   "id": "ef876965",
   "metadata": {},
   "source": [
    "## 什么是cat\n",
    "\n",
    "对于大部分同学来说，这个问题有些太trivial了。但是以防万一，还是在这里介绍一下，cat是一个GNU coreutils中的一个程序，它的作用是连接(con**cat**enate)一系列文件，并将其输出到标准输出流(stdout)中。\n",
    "\n",
    "> 如果你愿意去找，你会发现这个lab中所有的代码都可以在GNU coreutils中找到，或者你用某个大模型，它可能也能写得不错。\n",
    "> 但是，除了写代码以外，这个lab中也会包含一些分析和讨论。因此即使你选择直接去抄GNU coreutils中的代码，也不要直接不加思考的复制粘贴。"
   ]
  },
  {
   "cell_type": "markdown",
   "id": "be33179e",
   "metadata": {},
   "source": [
    "## 环境要求\n",
    "\n",
    "* 操作系统：Linux（任何包含GNU coreutils的发行版）\n",
    "* 编译器：本lab允许使用C/C++或者Rust，选择你喜欢的任何编译器即可。\n",
    "* Python3.x：本lab一些地方需要你画图，推荐你使用matplotlib。另外，我们使用一个简单的脚本来生成测试文件。"
   ]
  },
  {
   "cell_type": "markdown",
   "id": "c6d3e510",
   "metadata": {},
   "source": [
    "## 在开始之前\n",
    "\n",
    "这个项目的所有代码需要你自己动手来写，我们只提供了一个用于生成测试文件的脚本。\n",
    "\n",
    "为了展示比较明显的测试效果，我们会生成一个2GB的测试文件，请确保你的磁盘拥有足够的空间。你可以运行下面这个单元格来查看你的电脑是否有足够的空间。这里我们使用了`df`命令，这个命令的作用是查看某个文件系统所在的磁盘的使用量。"
   ]
  },
  {
   "cell_type": "code",
   "execution_count": 13,
   "id": "14021422",
   "metadata": {},
   "outputs": [
    {
     "name": "stdout",
     "output_type": "stream",
     "text": [
      "Filesystem      Size  Used Avail Use% Mounted on\n",
      "/dev/sdc       1007G   13G  944G   2% /\n"
     ]
    },
    {
     "name": "stdout",
     "output_type": "stream",
     "text": [
      "Disk space is sufficient: 944G\n"
     ]
    }
   ],
   "source": [
    "%%bash\n",
    "df -h /\n",
    "\n",
    "avail=$(df -h / | awk 'NR==2 {print $4}' | grep -o '[0-9.]*')\n",
    "unit=$(df -h / | awk 'NR==2 {print $4}' | grep -o '[a-zA-Z]*')\n",
    "if [[ \"$unit\" == \"M\" || \"$unit\" == \"K\" ]]; then\n",
    "    echo \"Disk space is low: $avail$unit\"\n",
    "elif [[ \"$unit\" == \"T\" ]]; then\n",
    "    echo \"Disk space is sufficient: $avail$unit\"\n",
    "elif [[ \"$unit\" == \"G\" ]]; then\n",
    "    if (( $(echo \"$avail < 10\" | bc -l) )); then\n",
    "        echo \"Disk space is low: $avail$unit\"\n",
    "    else\n",
    "        echo \"Disk space is sufficient: $avail$unit\"\n",
    "    fi\n",
    "else\n",
    "    echo \"Unknown unit: $unit\"\n",
    "fi\n"
   ]
  },
  {
   "cell_type": "markdown",
   "id": "64cc6804",
   "metadata": {},
   "source": [
    "你可以使用我们提供的python脚本来生成测试文件，运行下面的单元格。测试文件的生成可能会花费一定的时间。"
   ]
  },
  {
   "cell_type": "code",
   "execution_count": 14,
   "id": "8ead0359",
   "metadata": {},
   "outputs": [],
   "source": [
    "import random\n",
    "\n",
    "MB = 1024 * 1024\n",
    "\n",
    "# A static seed for reproducibility\n",
    "random.seed(42)\n",
    "\n",
    "with open(\"test.txt\", \"wb\") as f:\n",
    "    for _ in range(2048):\n",
    "        f.write(random.randbytes(1 * MB)) # 1MB of random data"
   ]
  },
  {
   "cell_type": "markdown",
   "id": "a0017028",
   "metadata": {},
   "source": [
    "当前文件夹下面会出现一个大小为2GB的文件`test.txt`。你可以运行下面的单元格来验证。"
   ]
  },
  {
   "cell_type": "code",
   "execution_count": 15,
   "id": "a4bd4bd0",
   "metadata": {},
   "outputs": [
    {
     "name": "stdout",
     "output_type": "stream",
     "text": [
      "-rw-r--r-- 1 eraeus eraeus 2.0G Jun 19 18:01 test.txt\n"
     ]
    }
   ],
   "source": [
    "%%bash\n",
    "ls -lh test.txt"
   ]
  },
  {
   "cell_type": "markdown",
   "id": "55fbac6a",
   "metadata": {},
   "source": [
    "最后，我们的lab会需要使用`hyperfine`来测量程序的运行时间。我们推荐你使用`cargo`进行安装。你可以从[Rust官网](https://www.rust-lang.org/zh-CN/learn/get-started)找到安装脚本。如果你的电脑已经安装好了`cargo`，你可以运行下面的单元格来安装`hyperfine`。"
   ]
  },
  {
   "cell_type": "code",
   "execution_count": 16,
   "id": "77f0165a",
   "metadata": {},
   "outputs": [
    {
     "name": "stderr",
     "output_type": "stream",
     "text": [
      "\u001b[1m\u001b[32m    Updating\u001b[0m crates.io index\n",
      "\u001b[1m\u001b[32m     Ignored\u001b[0m package `hyperfine v1.19.0` is already installed, use --force to override\n"
     ]
    }
   ],
   "source": [
    "%%bash\n",
    "source $HOME/.cargo/env\n",
    "cargo install hyperfine"
   ]
  },
  {
   "cell_type": "markdown",
   "id": "45cefa6f",
   "metadata": {},
   "source": [
    "有了以上的准备工作，我们终于可以开始我们的探索之旅了。"
   ]
  },
  {
   "cell_type": "markdown",
   "id": "9c1afa63",
   "metadata": {},
   "source": [
    "## 任务0: 测量cat的效率\n",
    "\n",
    "你要做的第一个任务十分简单。学习一下如何使用`hyperfine`，并且使用它来测试GNU coreutils中的cat输出我们生成的测试文件`test.txt`的时间。运行下面的单元格来运行测试。"
   ]
  },
  {
   "cell_type": "code",
   "execution_count": 1,
   "id": "4af9a82b",
   "metadata": {},
   "outputs": [
    {
     "name": "stdout",
     "output_type": "stream",
     "text": [
      "Benchmark 1: cat test.txt\n",
      "  Time (mean ± σ):     229.8 ms ±  12.9 ms    [User: 1.1 ms, System: 210.2 ms]\n",
      "  Range (min … max):   220.5 ms … 259.9 ms    13 runs\n",
      " \n"
     ]
    },
    {
     "name": "stderr",
     "output_type": "stream",
     "text": [
      " \n",
      "  Warning: Statistical outliers were detected. Consider re-running this benchmark on a quiet system without any interferences from other programs. It might help to use the '--warmup' or '--prepare' options.\n"
     ]
    }
   ],
   "source": [
    "%%bash\n",
    "source $HOME/.cargo/env\n",
    "hyperfine --warmup 3 'cat test.txt'"
   ]
  },
  {
   "cell_type": "markdown",
   "id": "cd94fe5a",
   "metadata": {},
   "source": [
    "## 任务1: 写一个最朴素的cat\n",
    "\n",
    "我们现在使用`hyperfine`测量了GNU coreutils中的`cat`的运行效率，但是对于这个运行时间，我们可能并没有什么概念。现在我们将会写一个最朴素的`cat`程序来作为baseline。这个程序需要满足一下要求：\n",
    "1. 把你的源代码命名为`mycat1.c`或者`mycat1.rs`，并且可执行的二进制文件命名为`mycat1`。\n",
    "2. 你的程序接受且只接受一个命令行参数，这个参数是你要读取的文件。\n",
    "3. 你的程序直接使用`read`和`write`系统调用，每次读取并输出一个字符，不使用任何缓冲区。\n",
    "4. 使用`hpyerfine`测量`mycat1`和`cat`运行时间（`mycat1`的运行时间可能会非常长）\n",
    "5. 虽然这是一个很简单的程序，但是请仍然保持系统编程的规范。请在你的代码中进行进行所有必要的错误处理。\n",
    "\n",
    "这个任务不需要在文档中包含任何内容。"
   ]
  },
  {
   "cell_type": "code",
   "execution_count": 18,
   "id": "124223b9",
   "metadata": {},
   "outputs": [
    {
     "name": "stdout",
     "output_type": "stream",
     "text": [
      "Benchmark 1: ./target/mycat1 test.txt\n",
      "Process was interrupted.\n"
     ]
    },
    {
     "ename": "CalledProcessError",
     "evalue": "Command 'b\"source $HOME/.cargo/env\\nhyperfine --warmup 3 --runs 1 './target/mycat1 test.txt'\\n\"' died with <Signals.SIGINT: 2>.",
     "output_type": "error",
     "traceback": [
      "\u001b[31m---------------------------------------------------------------------------\u001b[39m",
      "\u001b[31mCalledProcessError\u001b[39m                        Traceback (most recent call last)",
      "\u001b[36mCell\u001b[39m\u001b[36m \u001b[39m\u001b[32mIn[18]\u001b[39m\u001b[32m, line 1\u001b[39m\n\u001b[32m----> \u001b[39m\u001b[32m1\u001b[39m \u001b[43mget_ipython\u001b[49m\u001b[43m(\u001b[49m\u001b[43m)\u001b[49m\u001b[43m.\u001b[49m\u001b[43mrun_cell_magic\u001b[49m\u001b[43m(\u001b[49m\u001b[33;43m'\u001b[39;49m\u001b[33;43mbash\u001b[39;49m\u001b[33;43m'\u001b[39;49m\u001b[43m,\u001b[49m\u001b[43m \u001b[49m\u001b[33;43m'\u001b[39;49m\u001b[33;43m'\u001b[39;49m\u001b[43m,\u001b[49m\u001b[43m \u001b[49m\u001b[33;43m\"\u001b[39;49m\u001b[33;43msource $HOME/.cargo/env\u001b[39;49m\u001b[38;5;130;43;01m\\n\u001b[39;49;00m\u001b[33;43mhyperfine --warmup 3 --runs 1 \u001b[39;49m\u001b[33;43m'\u001b[39;49m\u001b[33;43m./target/mycat1 test.txt\u001b[39;49m\u001b[33;43m'\u001b[39;49m\u001b[38;5;130;43;01m\\n\u001b[39;49;00m\u001b[33;43m\"\u001b[39;49m\u001b[43m)\u001b[49m\n",
      "\u001b[36mFile \u001b[39m\u001b[32m~/meowhw-Eraeus326/.venv/lib/python3.12/site-packages/IPython/core/interactiveshell.py:2547\u001b[39m, in \u001b[36mInteractiveShell.run_cell_magic\u001b[39m\u001b[34m(self, magic_name, line, cell)\u001b[39m\n\u001b[32m   2545\u001b[39m \u001b[38;5;28;01mwith\u001b[39;00m \u001b[38;5;28mself\u001b[39m.builtin_trap:\n\u001b[32m   2546\u001b[39m     args = (magic_arg_s, cell)\n\u001b[32m-> \u001b[39m\u001b[32m2547\u001b[39m     result = \u001b[43mfn\u001b[49m\u001b[43m(\u001b[49m\u001b[43m*\u001b[49m\u001b[43margs\u001b[49m\u001b[43m,\u001b[49m\u001b[43m \u001b[49m\u001b[43m*\u001b[49m\u001b[43m*\u001b[49m\u001b[43mkwargs\u001b[49m\u001b[43m)\u001b[49m\n\u001b[32m   2549\u001b[39m \u001b[38;5;66;03m# The code below prevents the output from being displayed\u001b[39;00m\n\u001b[32m   2550\u001b[39m \u001b[38;5;66;03m# when using magics with decorator @output_can_be_silenced\u001b[39;00m\n\u001b[32m   2551\u001b[39m \u001b[38;5;66;03m# when the last Python token in the expression is a ';'.\u001b[39;00m\n\u001b[32m   2552\u001b[39m \u001b[38;5;28;01mif\u001b[39;00m \u001b[38;5;28mgetattr\u001b[39m(fn, magic.MAGIC_OUTPUT_CAN_BE_SILENCED, \u001b[38;5;28;01mFalse\u001b[39;00m):\n",
      "\u001b[36mFile \u001b[39m\u001b[32m~/meowhw-Eraeus326/.venv/lib/python3.12/site-packages/IPython/core/magics/script.py:159\u001b[39m, in \u001b[36mScriptMagics._make_script_magic.<locals>.named_script_magic\u001b[39m\u001b[34m(line, cell)\u001b[39m\n\u001b[32m    157\u001b[39m \u001b[38;5;28;01melse\u001b[39;00m:\n\u001b[32m    158\u001b[39m     line = script\n\u001b[32m--> \u001b[39m\u001b[32m159\u001b[39m \u001b[38;5;28;01mreturn\u001b[39;00m \u001b[38;5;28;43mself\u001b[39;49m\u001b[43m.\u001b[49m\u001b[43mshebang\u001b[49m\u001b[43m(\u001b[49m\u001b[43mline\u001b[49m\u001b[43m,\u001b[49m\u001b[43m \u001b[49m\u001b[43mcell\u001b[49m\u001b[43m)\u001b[49m\n",
      "\u001b[36mFile \u001b[39m\u001b[32m~/meowhw-Eraeus326/.venv/lib/python3.12/site-packages/IPython/core/magics/script.py:327\u001b[39m, in \u001b[36mScriptMagics.shebang\u001b[39m\u001b[34m(self, line, cell)\u001b[39m\n\u001b[32m    325\u001b[39m     \u001b[38;5;28mprint\u001b[39m(\u001b[33m\"\u001b[39m\u001b[33mError while terminating subprocess (pid=\u001b[39m\u001b[38;5;132;01m%i\u001b[39;00m\u001b[33m): \u001b[39m\u001b[38;5;132;01m%s\u001b[39;00m\u001b[33m\"\u001b[39m % (p.pid, e))\n\u001b[32m    326\u001b[39m \u001b[38;5;28;01mif\u001b[39;00m args.raise_error:\n\u001b[32m--> \u001b[39m\u001b[32m327\u001b[39m     \u001b[38;5;28;01mraise\u001b[39;00m CalledProcessError(p.returncode, cell) \u001b[38;5;28;01mfrom\u001b[39;00m\u001b[38;5;250m \u001b[39m\u001b[38;5;28;01mNone\u001b[39;00m\n\u001b[32m    328\u001b[39m \u001b[38;5;28;01melse\u001b[39;00m:\n\u001b[32m    329\u001b[39m     \u001b[38;5;28;01mreturn\u001b[39;00m\n",
      "\u001b[31mCalledProcessError\u001b[39m: Command 'b\"source $HOME/.cargo/env\\nhyperfine --warmup 3 --runs 1 './target/mycat1 test.txt'\\n\"' died with <Signals.SIGINT: 2>."
     ]
    }
   ],
   "source": [
    "%%bash\n",
    "source $HOME/.cargo/env\n",
    "hyperfine --warmup 3 --runs 1 './target/mycat1 test.txt'"
   ]
  },
  {
   "cell_type": "markdown",
   "id": "7105038c",
   "metadata": {},
   "source": [
    "## 任务2: 带有缓冲区的cat\n",
    "\n",
    "如果你正确完成了上面的任务，你会发现，`mycat1`的性能和系统中的`cat`的性能相差甚远。但是经过了ics课程的学习，你肯定已经想到了至少一个解决方案——使用缓冲区。缓冲区可以有效减少反复进行系统调用的性能消耗。但是，我们要面临的第二个问题是：缓冲区的大小应该如何设置呢？我们接下来将一步一步地探索这个问题。\n",
    "\n",
    "我们之前肯定也已经讲过不少涉及IO缓冲区的程序了，它们的缓冲区大小都被设置为多少呢？我相信1024, 4096, 8192一定是比较常见的几个数字。经过ics的学习，我相信你们肯定能说出原因了。那么，这个任务，我们将根据这个原理优化我们的`mycat1`。你至少需要完成下面要求：\n",
    "1. 复制你上一个任务的源代码在上面做修改，并把源代码命名为`mycat2.c`/`mycat2.rs`，可执行二进制文件命名为`mycat2`。\n",
    "2. 写一个`io_blocksize`函数用于确定你的缓冲区的大小，在这个任务中，你可以将缓冲区设置成你当前系统中一个内存页的大小。（注意：你不能假设所有系统中内存页的大小都是4K，请你使用一个系统调用或者标准库中的函数来获取内存页的大小，而不要使用一个固定值。不过允许你使用一个固定值，如果获取内存页发生错误，但是这不应该是一个常见的情况）。\n",
    "3. 使用标准库提供的函数动态分配用于缓冲区的内存。\n",
    "4. 使用`hpyerfine`测量`mycat2`的运行时间\n",
    "5. 请保持系统编程的基本规范。\n",
    "\n",
    "这个任务不需要在文档中包含任何内容。"
   ]
  },
  {
   "cell_type": "code",
   "execution_count": 9,
   "id": "ac23d60f",
   "metadata": {},
   "outputs": [
    {
     "name": "stdout",
     "output_type": "stream",
     "text": [
      "Benchmark 1: ./target/mycat2 test.txt\n",
      "  Time (mean ± σ):     364.0 ms ±   5.1 ms    [User: 27.9 ms, System: 313.5 ms]\n",
      "  Range (min … max):   357.9 ms … 374.8 ms    10 runs\n",
      " \n"
     ]
    }
   ],
   "source": [
    "%%bash\n",
    "source $HOME/.cargo/env\n",
    "hyperfine --warmup 3 './target/mycat2 test.txt'"
   ]
  },
  {
   "cell_type": "markdown",
   "id": "c5630499",
   "metadata": {},
   "source": [
    "## 任务3: 缓冲区对齐的cat\n",
    "\n",
    "如果你正确完成了上面这个任务，你会发现，添加了缓冲区的`mycat2`性能提升十分显著。但是我们还可以进一步优化。实际上只是添加了缓冲区并且设置缓冲区的大小为内存页的整数倍并不是没有什么太多的意义，这样的设置只是为了这个一个任务做铺垫的。在这个任务中，我们将尝试将我们的缓冲区对齐到系统的内存页。至于为什么要这么做，请大家在自己的文档中分析一下。你至少需要完成以下要求：\n",
    "1. 复制你上一个任务的源代码在上面做修改，并把源代码命名为`mycat3.c`/`mycat3.rs`，可执行二进制文件命名为`mycat3`。\n",
    "2. 写两个函数`char* align_alloc(size_t size)`和`void align_free(void* ptr)`，它们的作用分别是分配一段内存，长度不小于`size`并且返回一个对齐到内存页起始的指针`ptr`，以及给出一个先前从`align_alloc`返回的指针并释放之前分配的内存。\n",
    "3. 利用这两个函数修改你的代码，缓冲区的大小仍然设置成一个内存页的大小。\n",
    "4. 使用`hpyerfine`测量`mycat3`的运行时间\n",
    "5. 请保持系统编程的基本规范。\n",
    "\n",
    "这个任务，你需要在文档中回答以下问题：\n",
    "1. 为什么将缓冲区对齐到系统的内存可能提高性能？你的实验结果支持这个猜想吗？为什么？\n",
    "2. 为什么我们直接使用`malloc`函数分配的内存不能对齐到内存页，即使我们分配的内存大小已经是内存页大小的整数倍了。\n",
    "3. 你是怎么在不知道原始的malloc返回的指针的情况下正确释放内存的？"
   ]
  },
  {
   "cell_type": "code",
   "execution_count": 38,
   "id": "cc9a08fd",
   "metadata": {},
   "outputs": [
    {
     "name": "stdout",
     "output_type": "stream",
     "text": [
      "Benchmark 1: ./target/mycat3 test.txt\n",
      "  Time (mean ± σ):     359.3 ms ±  16.4 ms    [User: 40.4 ms, System: 300.4 ms]\n",
      "  Range (min … max):   339.9 ms … 391.1 ms    10 runs\n",
      " \n"
     ]
    }
   ],
   "source": [
    "%%bash\n",
    "source $HOME/.cargo/env\n",
    "hyperfine --warmup 3 './target/mycat3 test.txt'"
   ]
  },
  {
   "cell_type": "markdown",
   "id": "45070667",
   "metadata": {},
   "source": [
    "## 任务4: 设置缓冲区大小为文件系统块大小的整数倍的cat\n",
    "\n",
    "由于`cat`是涉及文件操作的，所以我们自然不能离开磁盘操作。我们在课内已经学到过，磁盘操作的基本单位是块。并且因为我们操作磁盘是经过了操作系统的一层抽象的，操作系统的文件系统也定义了一个操作文件的基本单位块，这个块的大小和磁盘的块的大小相关，但不总是相同。因此我们操作文件的时候实际接触到的块大小是文件系统的块大小。如果我们每次读取和写入文件的时候都按照文件系统的块大小来进行，也能提升性能。在这个任务中，你至少需要完成以下要求：\n",
    "1. 复制你上一个任务的源代码在上面做修改，并把源代码命名为`mycat4.c`/`mycat4.rs`，可执行二进制文件命名为`mycat4`。\n",
    "2. 修改你的函数`io_blocksize`，让你的缓冲区大小既考虑到内存页大小也考虑到文件系统的块大小。\n",
    "3. 使用`hyperfine`测量`mycat4`的运行时间。\n",
    "4. 保持系统编程的基本规范。\n",
    "\n",
    "> 在完成这项任务的时候你需要注意以下几点：\n",
    "> 1. 文件系统中的每个文件，块大小不总是相同的。\n",
    "> 2. 有的文件系统可能会给出虚假的块大小，这种虚假的文件块大小可能根本不是2的整数次幂。\n",
    "\n",
    "这个任务，你需要在文档中回答以下问题：\n",
    "1. 为什么在设置缓冲区大小的时候需要考虑到文件系统块的大小的问题？\n",
    "2. 对于上面提到的两个注意事项你是怎么解决的？"
   ]
  },
  {
   "cell_type": "code",
   "execution_count": 44,
   "id": "b1c29621",
   "metadata": {},
   "outputs": [
    {
     "name": "stdout",
     "output_type": "stream",
     "text": [
      "Benchmark 1: ./target/mycat4 test.txt\n",
      "  Time (mean ± σ):     388.3 ms ±  15.3 ms    [User: 49.3 ms, System: 307.2 ms]\n",
      "  Range (min … max):   367.3 ms … 415.0 ms    10 runs\n",
      " \n"
     ]
    }
   ],
   "source": [
    "%%bash\n",
    "source $HOME/.cargo/env\n",
    "hyperfine --warmup 3 './target/mycat4 test.txt'"
   ]
  },
  {
   "cell_type": "markdown",
   "id": "442bbd60",
   "metadata": {},
   "source": [
    "## 任务5: 考虑系统调用开销情况下的cat\n",
    "\n",
    "如果你正确完成了上面的任务，那么现在你的`cat`已经可以综合考虑内存页大小，内存页对齐和文件系统块大小的因素来设置缓冲区大小了。但是我们会发现，我们自己的`cat`性能仍然不如我们系统中的`cat`。并且如果你尝试过再进一步增大缓冲区的大小，你的`cat`性能还能更高。这是因为我们目前设置的缓冲区大小还不足以掩盖系统调用带来的开销。那么，我们的缓冲区究竟应该设置到什么大小才够呢？其实这个问题，我们仅仅使用理论分析是无法给出答案的，因为答案受到机器的硬件条件，操作系统的涉及等多重不确定因素的影响。但是，我们可以使用实验来解答这个问题。最后，我们还需要做出假设，不考虑上一个任务的注意事项1，也就是我们假设我们文件系统的大部分文件的块大小都一致（你可以使用我们的测试文件的块大小）。因此，设我们在之前的任务中设置的缓冲区大小是buf_size，我们需要通过实验找到一个倍数A，满足以下条件：\n",
    "1. 当缓冲区大小小于A * buf_size的时候，文件的读写速度显著减小\n",
    "2. 当缓冲区大小大于A * buf_size的时候，文件的读写速度并不显著提升\n",
    "最终，我们就可以直接设置我们的`cat`中的缓冲区大小设置成buf_size的固定倍率。在这个任务中，你只少需要完成以下要求：\n",
    "1. 编写一个实验脚本，尽量排除其他因素的影响，测量只在系统调用开销的影响下，你的系统最合适的缓冲区大小。并且给出这个大小下你的系统的读写速率。\n",
    "2. 复制你上一个任务的源代码在上面做修改，并把源代码命名为`mycat5.c`/`mycat5.rs`，可执行二进制文件命名为`mycat5`。\n",
    "3. 利用上面的实验结果，修改你的函数`io_blocksize`。\n",
    "4. 使用`hyperfine`测量`mycat5`的运行时间。\n",
    "5. 保持系统编程的基本规范。\n",
    "\n",
    "> 提示：\n",
    "> 1. `dd`命令可以用于复制一个文件(也就是读取并写入)，你可以使用命令行参数设置它的缓冲区大小，并且程序终止的时候可以报告平均文件读写速度。\n",
    "> 2. Linux系统中存在`/dev`文件系统，这个目录下有很多特殊文件，其中有一些对你来说可能有用。`/dev/null`，你向这个文件写入的内容并不真正写入磁盘，并且不会对你的系统造成任何影响。`/dev/zero`，如果你尝试读取这个文件你会得到源源不断的`\\0x0`，这个文件也并不真正的从磁盘中读取。\n",
    "\n",
    "这个任务，你需要在文档中包括以下内容：\n",
    "1. 解释一下你的实验脚本是怎么设计的。你应该尝试了多种倍率，请将它们的读写速率画成图表包含在文档中。"
   ]
  },
  {
   "cell_type": "code",
   "execution_count": 5,
   "id": "9a720e79",
   "metadata": {},
   "outputs": [
    {
     "data": {
      "image/png": "[encoded data removed]",
      "text/plain": [
       "<Figure size 640x480 with 1 Axes>"
      ]
     },
     "metadata": {},
     "output_type": "display_data"
    }
   ],
   "source": [
    "# 请在这里填入你的测试脚本\n",
    "# plot_bufsize.py\n",
    "import pandas as pd\n",
    "import matplotlib.pyplot as plt\n",
    "\n",
    "# 读取 CSV\n",
    "df = pd.read_csv('results.csv')\n",
    "\n",
    "# 将 buf_bytes 列转为 KB 或 MB 便于显示 （这里用 KB）\n",
    "df['buf_KB'] = df['buf_bytes'] / 1024\n",
    "\n",
    "# 绘图\n",
    "plt.figure()\n",
    "plt.plot(df['buf_KB'], df['throughput_MBps'], marker='o')\n",
    "plt.xlabel('Buffer size (KB)')\n",
    "plt.ylabel('Throughput (MB/s)')\n",
    "plt.title('Buffer size vs Throughput')\n",
    "plt.grid(True)\n",
    "\n",
    "# 如果你想保存图片，可以加：\n",
    "plt.savefig('bufsize_throughput.png', dpi=300)\n",
    "\n",
    "plt.show()\n"
   ]
  },
  {
   "cell_type": "code",
   "execution_count": 22,
   "id": "fefb5fdb",
   "metadata": {},
   "outputs": [
    {
     "name": "stdout",
     "output_type": "stream",
     "text": [
      "Benchmark 1: ./target/mycat5 test.txt\n",
      "  Time (mean ± σ):     220.0 ms ±   5.9 ms    [User: 1.1 ms, System: 202.0 ms]\n",
      "  Range (min … max):   210.5 ms … 230.7 ms    14 runs\n",
      " \n"
     ]
    }
   ],
   "source": [
    "%%bash\n",
    "source $HOME/.cargo/env\n",
    "hyperfine --warmup 3 './target/mycat5 test.txt'"
   ]
  },
  {
   "cell_type": "markdown",
   "id": "54bef4af",
   "metadata": {},
   "source": [
    "## 任务6: 使用了系统调用`fdadvice`的cat\n",
    "\n",
    "虽然几乎我们的这个lab都在讨论设置缓冲区大小的问题，但是实际上我们的系统中的`cat`还在其他很多方面做了不少优化。这些优化在多数时候和缓冲区相比都不起决定性作用，但是我们也可以从中学习到不少有趣的技巧。这里我们就只尝试其中一个，使用系统调用`fadvise`。这个系统调用可以提示文件系统我们将会以什么样的模式来读写文件，这样操作系统可以设置合适的readahead窗口为文件的读写做准备。在这个任务中，你需要完成以下要求：\n",
    "1. 复制你上一个任务的源代码在上面做修改，并把源代码命名为`mycat6.c`/`mycat6.rs`，可执行二进制文件命名为`mycat6`。\n",
    "2. 在你的代码中使用`fadvise`进行优化。\n",
    "3. 使用`hyperfine`测量`mycat6`的运行时间。\n",
    "4. 保持系统编程的基本规范。\n",
    "\n",
    "这个任务，你需要在文档中回答以下问题：\n",
    "1. 你是如何设置`fadvise`的参数的？\n",
    "2. 对于顺序读写的情况，文件系统可以如何调整readahead？对于随机读写的情况呢？"
   ]
  },
  {
   "cell_type": "code",
   "execution_count": 21,
   "id": "3aad1e29",
   "metadata": {},
   "outputs": [
    {
     "name": "stdout",
     "output_type": "stream",
     "text": [
      "Benchmark 1: ./target/mycat6 test.txt\n",
      "  Time (mean ± σ):     215.5 ms ±   7.0 ms    [User: 1.9 ms, System: 200.4 ms]\n",
      "  Range (min … max):   206.3 ms … 231.9 ms    13 runs\n",
      " \n"
     ]
    }
   ],
   "source": [
    "%%bash\n",
    "hyperfine --warmup 3 './target/mycat6 test.txt'"
   ]
  },
  {
   "cell_type": "markdown",
   "id": "2c605486",
   "metadata": {},
   "source": [
    "## 任务7: 总结\n",
    "\n",
    "经过了上面的所有任务，我们已经成功探索我们系统中最常用的工具`cat`所使用的各种优化。我相信你对涉及系统IO的编程也有了更深刻的理解。现在请你整理汇总上面每个任务你所写的`mycatx`以及系统的`cat`的测量数据，使用一个柱状图来展示。并且请你分析一下你得到的结果：它们符合你的预期吗？为什么？这个结果给你带来了什么启示？\n",
    "\n",
    "这个任务，你需要在文档中包含以下内容：\n",
    "1. 你的全部实验结果的柱状图。\n",
    "2. 你对上述实验结果的分析。"
   ]
  },
  {
   "cell_type": "code",
   "execution_count": 45,
   "id": "4e293a45",
   "metadata": {},
   "outputs": [
    {
     "data": {
      "image/png": "[encoded data removed]",
      "text/plain": [
       "<Figure size 800x500 with 1 Axes>"
      ]
     },
     "metadata": {},
     "output_type": "display_data"
    },
    {
     "data": {
      "text/plain": [
       "<Figure size 640x480 with 0 Axes>"
      ]
     },
     "metadata": {},
     "output_type": "display_data"
    }
   ],
   "source": [
    "# 这里填入你用于画图的python代码\n",
    "import matplotlib.pyplot as plt\n",
    "\n",
    "# 各实验的平均运行时间（毫秒），根据 hyperfine 输出填写\n",
    "labels = [\n",
    "    'cat',\n",
    "    'mycat2',\n",
    "    'mycat3',\n",
    "    'mycat4',\n",
    "    'mycat5',\n",
    "    'mycat6',\n",
    "]\n",
    "times = [\n",
    "    229.8,   # cat test.txt\n",
    "    364.0,   # mycat2\n",
    "    359.5,   # mycat3\n",
    "    371.0,   # mycat4\n",
    "    220.0,   # mycat5\n",
    "    215.5,   # mycat6\n",
    "]\n",
    "\n",
    "# 处理 mycat1 未完成的情况\n",
    "bar_colors = ['tab:blue' if t is not None else 'tab:gray' for t in times]\n",
    "plot_times = [t if t is not None else 0 for t in times]\n",
    "\n",
    "plt.figure(figsize=(8,5))\n",
    "plt.bar(labels, plot_times, color=bar_colors)\n",
    "plt.ylabel('Average running time (ms)')\n",
    "plt.title('cat and mycat-version running time contrast')\n",
    "for i, t in enumerate(times):\n",
    "    if t is not None:\n",
    "        plt.text(i, t + 5, f'{t:.1f}', ha='center')\n",
    "    else:\n",
    "        plt.text(i, 5, '未完成', ha='center', color='red')\n",
    "plt.grid(axis='y', linestyle='--', alpha=0.5)\n",
    "plt.tight_layout()\n",
    "plt.show()"
   ]
  }
 ],
 "metadata": {
  "kernelspec": {
   "display_name": ".venv",
   "language": "python",
   "name": "python3"
  },
  "language_info": {
   "codemirror_mode": {
    "name": "ipython",
    "version": 3
   },
   "file_extension": ".py",
   "mimetype": "text/x-python",
   "name": "python",
   "nbconvert_exporter": "python",
   "pygments_lexer": "ipython3",
   "version": "3.12.3"
  }
 },
 "nbformat": 4,
 "nbformat_minor": 5
}
